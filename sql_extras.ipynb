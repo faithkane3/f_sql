{
 "cells": [
  {
   "cell_type": "markdown",
   "metadata": {},
   "source": [
    "# SQL Case and Temp Tables"
   ]
  },
  {
   "cell_type": "markdown",
   "metadata": {},
   "source": [
    "## <font color=red>What Does the CASE Statement Do?</font>"
   ]
  },
  {
   "cell_type": "markdown",
   "metadata": {},
   "source": [
    "### Case Statements\n",
    "\n",
    "**The SQL `CASE` Statement** is a conditional expression that allows me to create a new temporary column in my result set based on 'If this, then...' logic. A `CASE`statement is added to the `SELECT` statement, after all of the existing fields I have selected; it begins with `CASE` and ends with `END AS new_field_name`. **Don't forget the comma after the last item in your `SELECT` list! This is a common error for me, so I want to point it out.**\n",
    "\n",
    "<div class=\"alert alert-block alert-warning\">It's helpful to include an `ELSE` clause to catch any possible values that fall outside of your conditional clauses because otherwise, if those values exist, they will be returned as `NULL`.</div>"
   ]
  },
  {
   "cell_type": "markdown",
   "metadata": {},
   "source": [
    "## <font color=orange>So What Can I Do with a Case Statement?</font>\n",
    "\n",
    "Using `CASE` statements comes in very handy when I want to create new fields from existing data in my dataset using conditionals, but I don't have database permissions to create a new table. Temporary tables are useful in this situation, as well. I'll dig into those next."
   ]
  },
  {
   "cell_type": "markdown",
   "metadata": {},
   "source": [
    "## <font color=green>Now What?</font>"
   ]
  },
  {
   "cell_type": "markdown",
   "metadata": {},
   "source": [
    "#### Create Categories to Classify Values\n",
    "\n",
    ">For example, if I have a field called `high_temp` containing integers that represent the high temperature recorded for a particular day, I can add a `CASE` statement to my query that will create a new field called `weather` classifying values in `high_temp` as one of three categorical variables, `cold`, `warm`, `hot`, based on temperature ranges that I set as conditionals.\n",
    "\n",
    "I can create a column of categorical variables from a numeric column. I can even add a `GROUP BY` and a `COUNT(*)` to find out which category in the `weather` field has the highest count.\n",
    "\n",
    "```sql\n",
    "USE us_weather_db;\n",
    "SELECT high_temp,\n",
    "       COUNT(*) AS days,\n",
    "       CASE high_temp > 90 THEN 'hot'\n",
    "           WHEN high_temp BETWEEN 70 AND 90 THEN 'warm'\n",
    "           WHEN high_temp < 70 THEN 'cold'\n",
    "           ELSE 'idk'\n",
    "       END AS 'weather'\n",
    "FROM us_weather\n",
    "GROUP BY high_temp\n",
    "ORDER BY days DESC;\n",
    "```\n",
    "My query can have conditionals that use values from more than one field to create a new column. By throwing in a `COUNT(*) AS number_customers`, I have a useful result set for making comparisons.\n",
    "\n",
    "```sql\n",
    "SELECT COUNT(*) AS number_customers,\n",
    "       CASE WHEN internet_service_type_id = 1 AND device_protection = 'Yes' \n",
    "                 THEN 'DSL_Protected'\n",
    "            WHEN internet_service_type_id = 1 AND device_protection = 'No' \n",
    "                 THEN 'DSL_Unprotected'\n",
    "            WHEN internet_service_type_id = 2 AND device_protection = 'Yes' \n",
    "                 THEN 'Fiber_Optic_Protected'\n",
    "            WHEN internet_service_type_id = 2 AND device_protection = 'No' \n",
    "                 THEN 'Fiber_Optic_Unprotected'\n",
    "            WHEN internet_service_type_id = 3 \n",
    "                 THEN 'No_Internet_Service'\n",
    "            ELSE internet_service_type_id\n",
    "       END AS internet_types\n",
    "FROM customers\n",
    "GROUP BY internet_types\n",
    "ORDER BY number_customers;\n",
    "\n",
    "-> 1065\tDSL_Protected\n",
    "   1356\tDSL_Unprotected\n",
    "   1357\tFiber_Optic_Protected\n",
    "   1526\tNo_Internet_Service\n",
    "   1739\tFiber_Optic_Unprotected\n",
    "```"
   ]
  },
  {
   "cell_type": "markdown",
   "metadata": {},
   "source": [
    "#### Normalize Values in Your Dataset\n",
    "\n",
    "Sometimes my dataset may be messy (hahaha, sometimes), and I will need to normalize the values. `CASE` can come in handy here, as well.\n",
    "\n",
    "```sql\n",
    "SELECT title,\n",
    "       salary,\n",
    "       gender,\n",
    "       CASE gender\n",
    "           WHEN 'M' THEN 'male'\n",
    "           WHEN '0' THEN 'male'\n",
    "           WHEN 'F' THEN 'female'\n",
    "           WHEN '1' THEN 'female'\n",
    "           ELSE 'neither'\n",
    "       END AS gender_norm\n",
    "FROM us_employees;\n",
    "```"
   ]
  },
  {
   "cell_type": "markdown",
   "metadata": {},
   "source": [
    "#### Create a Boolean Field\n",
    "\n",
    "Sometimes it's easier to work with a boolean value, and `CASE` can be helpful here, as well. Here I create a new column called `is_female` containing the value `1` if `female` and `0` if `male`\n",
    "\n",
    "```sql\n",
    "USE titanic_db;\n",
    "SELECT sex,\n",
    "\t   CASE sex \n",
    "           WHEN 'female' THEN 1\n",
    "           ELSE 0\n",
    "       END AS is_female\n",
    "FROM passengers; \n",
    "\n",
    "-> male  \t0\n",
    "   female\t1\n",
    "   female\t1\n",
    "   female\t1\n",
    "   male\t    0\n",
    "```\n",
    "\n",
    "I can also do this using the `IF(condition, val_if_true, val_if_false)` function in my query.\n",
    "\n",
    "```sql\n",
    "SELECT sex,\n",
    "       IF(sex = 'female', True, False) AS is_female\n",
    "FROM passengers;\n",
    "\n",
    "-> male  \t0\n",
    "   female\t1\n",
    "   female\t1\n",
    "   female\t1\n",
    "   male\t    0\n",
    "```"
   ]
  },
  {
   "cell_type": "markdown",
   "metadata": {},
   "source": [
    "#### Create a Dummy Variable\n",
    "\n",
    "I can add a condition in my `SELECT` statement that will return `1` if the condition evaluates to True and a `1` if the condition evaluates to False. \n",
    "\n",
    "```sql\n",
    "SELECT sex, \n",
    "       sex = 'female' AS is_female\n",
    "FROM passengers;\n",
    "\n",
    "-> male\t    0\n",
    "   female\t1\n",
    "   female\t1\n",
    "   female\t1\n",
    "   male  \t0\n",
    "```"
   ]
  },
  {
   "cell_type": "markdown",
   "metadata": {},
   "source": [
    "## <font color=red>What Are Temporary Tables?</font>\n",
    "\n",
    "**Temporary Tables** exist only until you end your database session; if you lose your connection or close your database session, these tables will disappear."
   ]
  },
  {
   "cell_type": "markdown",
   "metadata": {},
   "source": [
    "## <font color=orange>So What?</font>\n",
    "\n",
    "I can create a temporary table when I want to query a subset of a dataset. I can modify a temporary table even when I don't have the needed permissions to modify data in a database."
   ]
  },
  {
   "cell_type": "markdown",
   "metadata": {},
   "source": [
    "## <font color=green>Now What?</font>"
   ]
  },
  {
   "cell_type": "markdown",
   "metadata": {},
   "source": [
    "### Create Temporary Tables\n",
    "\n",
    "```sql\n",
    "-- Create a temporary table using my database access.\n",
    "\n",
    "USE bayes_123;\n",
    "\n",
    "-- I want a table that brings over only the current employees in the Customer Service department.\n",
    "\n",
    "CREATE TEMPORARY TABLE dept_employees AS\n",
    "SELECT emp_no, \n",
    "\t   CONCAT(first_name, ' ', last_name) AS full_name, \n",
    "\t   dept_no, \n",
    "\t   dept_name,\n",
    "       salary\n",
    "FROM employees.employees\n",
    "JOIN employees.salaries USING(emp_no)\n",
    "JOIN employees.dept_emp USING(emp_no)\n",
    "JOIN employees.departments USING(dept_no)\n",
    "WHERE employees.departments.dept_name = 'Customer Service'\n",
    "    AND employees.dept_emp.to_date > CURDATE()\n",
    "    AND employees.salaries.to_date > CURDATE();\n",
    "```\n",
    "```sql\n",
    "-- Once I have created my dept_employees table, I can query this subset of the employees dataset.\n",
    "\n",
    "SELECT ROUND(AVG(salary),2) AS avg_salary\n",
    "FROM dept_employees;\n",
    "```"
   ]
  },
  {
   "cell_type": "markdown",
   "metadata": {},
   "source": [
    "### Modify Temporary Tables\n",
    "\n",
    "After you create a temporary table, you can make changes.\n",
    "\n",
    "```sql\n",
    "\n",
    "USE bayes_123;\n",
    "\n",
    "-- Create temporary table \n",
    "\n",
    "CREATE TEMPORARY TABLE temp_sakila AS\n",
    "SELECT *\n",
    "FROM sakila.payment;\n",
    "\n",
    "-- Check out my data.\n",
    "\n",
    "SELECT *\n",
    "FROM temp_sakila;\n",
    "\n",
    "-- Check out information about temp table structure.\n",
    "\n",
    "DESCRIBE temp_sakila;\n",
    "\n",
    "-- Transform the amount column from float to integer data type.\n",
    "\n",
    "ALTER TABLE temp_sakila MODIFY amount INT UNSIGNED;\n",
    "\n",
    "-- I can add new columns to a temp table.\n",
    "\n",
    "ALTER TABLE temp_sakila ADD new_col_1 INT UNSIGNED;\n",
    "ALTER TABLE temp_sakila ADD new_col_2 VARCHAR(25);\n",
    "\n",
    "-- Insert records into a tamp table.\n",
    "\n",
    "INSERT INTO temp_sakila (new_col_1, new_col_2) VALUES (val_1, val_2);\n",
    "\n",
    "-- Update existing data in the temp table.\n",
    "\n",
    "UPDATE temp_sakila SET new_col_1 = amount * 100;\n",
    "\n",
    "-- I can update my temptable using a `WHERE` clause if I don't want to update all values in a field or fields.\n",
    "\n",
    "UPDATE temp_sakila SET new_col_1 = some_val, new_col_2 = other_val WHERE condition;\n",
    "\n",
    "-- I can drop columns from my temp table.\n",
    "\n",
    "ALTER TABLE temp_sakila DROP COLUMN new_col_1;\n",
    "\n",
    "-- You can remove a temporary table before ending a session or terminating a connection.\n",
    "\n",
    "DROP TABLE table_name;\n",
    "```"
   ]
  }
 ],
 "metadata": {
  "kernelspec": {
   "display_name": "Python 3",
   "language": "python",
   "name": "python3"
  },
  "language_info": {
   "codemirror_mode": {
    "name": "ipython",
    "version": 3
   },
   "file_extension": ".py",
   "mimetype": "text/x-python",
   "name": "python",
   "nbconvert_exporter": "python",
   "pygments_lexer": "ipython3",
   "version": "3.7.4"
  },
  "toc": {
   "base_numbering": 1,
   "nav_menu": {},
   "number_sections": false,
   "sideBar": true,
   "skip_h1_title": true,
   "title_cell": "Table of Contents",
   "title_sidebar": "Contents",
   "toc_cell": false,
   "toc_position": {},
   "toc_section_display": true,
   "toc_window_display": true
  }
 },
 "nbformat": 4,
 "nbformat_minor": 4
}
