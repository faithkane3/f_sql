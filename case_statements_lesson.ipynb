{
 "cells": [
  {
   "cell_type": "markdown",
   "metadata": {},
   "source": [
    "# `CASE` Statement & `IF()` function\n",
    "\n",
    "## Lesson Goals\n",
    "- Understand how to use a `CASE` statement and why you might want to use it\n",
    "    - bucket or bin data to Zoom out or reduce noise in your data by viewing it at a higher level\n",
    "- Understand which logical operators you can use in your `CASE` statements\n",
    "    - the same set of conditional operators you can use in a `WHERE` clause can be used in a `CASE` statment\n",
    "\n",
    "<img src=https://i.pinimg.com/564x/cf/d7/43/cfd7433698b0ef4bd75e803333df8467.jpg width=\"200\">\n",
    "\n",
    "- Understand how to use the `IF()` function and when you might opt for this option\n",
    "- Understand the difference between the two above options"
   ]
  },
  {
   "cell_type": "markdown",
   "metadata": {},
   "source": [
    "___"
   ]
  },
  {
   "cell_type": "markdown",
   "metadata": {},
   "source": [
    "**A `CASE` Statement** allows you to  process a series of IF/THEN locial operators in a specific order. *They execute in the order they appear, so if a record satisfies more than one logical condition, the record will be assigned by the first THEN statement.*"
   ]
  },
  {
   "cell_type": "markdown",
   "metadata": {},
   "source": [
    "<div class=\"alert alert-block alert-info\"><b>Tip:</b> You might decide to use the ELSE condition as a catch all or error message to alert you to values you were not expecting in your data or faulty logic in your IF/THEN statements.</div>\n"
   ]
  },
  {
   "cell_type": "markdown",
   "metadata": {},
   "source": [
    "Check out more explanation and examples of `CASE` Statements [here](https://ds-review-hub.github.io/sql_extras) in my review notebook."
   ]
  },
  {
   "cell_type": "markdown",
   "metadata": {},
   "source": [
    "```sql\n",
    "-- CASE statement syntax. This allows me to reference different columns in my logic.\n",
    "SELECT\n",
    "    column_name,\n",
    "    CASE\n",
    "        WHEN column_name logic_1 THEN value1\n",
    "        WHEN column_name logic_2 THEN value2\n",
    "        WHEN column_name logic_3 THEN value3\n",
    "        ELSE catch_all_value\n",
    "        END AS new_column_name\n",
    "FROM table_name;\n",
    "```"
   ]
  },
  {
   "cell_type": "markdown",
   "metadata": {},
   "source": [
    "___"
   ]
  },
  {
   "cell_type": "markdown",
   "metadata": {},
   "source": [
    "**Let's look at some examples.**"
   ]
  },
  {
   "cell_type": "markdown",
   "metadata": {},
   "source": [
    "```sql\n",
    "-- Choose the chipotle database\n",
    "USE chipotle;\n",
    "\n",
    "-- Check out my orders table.\n",
    "SELECT *\n",
    "FROM orders;\n",
    "```"
   ]
  },
  {
   "cell_type": "markdown",
   "metadata": {},
   "source": [
    "___"
   ]
  },
  {
   "cell_type": "markdown",
   "metadata": {},
   "source": [
    "**Bucket Data**\n",
    "\n",
    "<img src=https://i.pinimg.com/564x/0e/43/26/0e43269e2d1684026a83f2e25edb8b02.jpg width=\"50\">"
   ]
  },
  {
   "cell_type": "markdown",
   "metadata": {},
   "source": [
    "```sql\n",
    "-- Use a `CASE` statement to create bins called item_type using item names.\n",
    "SELECT \n",
    "\titem_name,\n",
    "\tCASE\n",
    "\t\tWHEN item_name LIKE '%chicken%' THEN 'Chicken Item'\n",
    "\t\tWHEN item_name LIKE '%veggie%' THEN 'Veggie Item'\n",
    "\t\tWHEN item_name LIKE '%beef%' THEN 'Beef Item'\n",
    "\t\tWHEN item_name LIKE '%barbacoa%' \n",
    "\t\t\tOR item_name LIKE '%carnitas%' \n",
    "\t\t\tOR item_name LIKE '%steak%' THEN 'Specialty Item'\t\t\n",
    "\t\tWHEN item_name LIKE '%chips%' THEN 'Side'\n",
    "\t\tELSE 'Other'\n",
    "\t\tEND AS item_type\n",
    "FROM orders;\n",
    "```"
   ]
  },
  {
   "cell_type": "markdown",
   "metadata": {},
   "source": [
    "___"
   ]
  },
  {
   "cell_type": "markdown",
   "metadata": {},
   "source": [
    "**Zoom Out by adding a GROUP BY Clause**\n",
    "\n",
    " <img src=https://i.pinimg.com/564x/41/67/ec/4167ec6a89d575055c0fab2226039399.jpg width=\"50\">"
   ]
  },
  {
   "cell_type": "markdown",
   "metadata": {},
   "source": [
    "```sql\n",
    "-- How many different items do I have for each item type bin or category?\n",
    "SELECT \n",
    "\tCASE\n",
    "\t\tWHEN item_name LIKE '%chicken%' THEN 'Chicken Item'\n",
    "\t\tWHEN item_name LIKE '%veggie%' THEN 'Veggie Item'\n",
    "\t\tWHEN item_name LIKE '%beef%' THEN 'Beef Item'\n",
    "\t\tWHEN item_name LIKE '%barbacoa%' \n",
    "\t\t\tOR item_name LIKE '%carnitas%' \n",
    "\t\t\tOR item_name LIKE '%steak%' THEN 'Specialty Item'\t\t\n",
    "\t\tWHEN item_name LIKE '%chips%' THEN 'Side'\n",
    "\t\tELSE 'Other'\n",
    "\t\tEND AS item_type,\n",
    "\tCOUNT(*) count_of_records\n",
    "FROM orders\n",
    "GROUP BY item_type\n",
    "ORDER BY count_of_records DESC;\n",
    "```\n",
    "|  item_type  | count_of_records|\n",
    "|:-----|----:|\n",
    "|Chicken Item |1560|\n",
    "|Specialty Item|1086|\n",
    "|Side|1084|\n",
    "|Other|680|\n",
    "|Veggie Item|212|"
   ]
  },
  {
   "cell_type": "markdown",
   "metadata": {},
   "source": [
    "___"
   ]
  },
  {
   "cell_type": "markdown",
   "metadata": {},
   "source": [
    "**Zoom In by adding a sub-dimension to my GROUP BY Clause and a HAVING Clause to filter**\n",
    "\n",
    " <img src=https://i.pinimg.com/564x/9d/00/90/9d0090f18edbbfc7c22b68596e302cfe.jpg width=\"50\">"
   ]
  },
  {
   "cell_type": "markdown",
   "metadata": {},
   "source": [
    "```sql\n",
    "-- Filter my return set to Specialty Items item types only and see which item in this category is most popular.\n",
    "SELECT \n",
    "\titem_name,\n",
    "\tCASE\n",
    "\t\tWHEN item_name LIKE '%chicken%' THEN 'Chicken Item'\n",
    "\t\tWHEN item_name LIKE '%veggie%' THEN 'Veggie Item'\n",
    "\t\tWHEN item_name LIKE '%beef%' THEN 'Beef Item'\n",
    "\t\tWHEN item_name LIKE '%barbacoa%' \n",
    "\t\t\tOR item_name LIKE '%carnitas%' \n",
    "\t\t\tOR item_name LIKE '%steak%' THEN 'Specialty Item'\n",
    "\t\tWHEN item_name LIKE '%chips%' THEN 'Side'\n",
    "\t\tELSE 'Other'\n",
    "\t\tEND AS item_type,\n",
    "\tCOUNT(*) AS count_of_records\n",
    "FROM orders\n",
    "GROUP BY item_type, item_name\n",
    "HAVING item_type = 'Specialty Item'\n",
    "ORDER BY count_of_records DESC;\n",
    "```\n",
    "|item_name        |      item_type     |   count_of_records|\n",
    "|:-----|:-----|----:|\n",
    "|Steak Burrito     |     Specialty Item |368|\n",
    "|Steak Bowl        |     Specialty Item |211|\n",
    "|Barbacoa Burrito   |    Specialty Item |91|\n",
    "|Carnitas Bowl      |    Specialty Item |68|\n",
    "|Barbacoa Bowl       |   Specialty Item |66|\n",
    "|Carnitas Burrito    |   Specialty Item |59|\n",
    "|Steak Soft Tacos    |   Specialty Item |55|\n",
    "|Carnitas Soft Tacos  |  Specialty Item |40|\n",
    "|Steak Crispy Tacos   |  Specialty Item |35|\n",
    "|Steak Salad Bowl    |   Specialty Item |29|\n",
    "|Barbacoa Soft Tacos  |  Specialty Item |25|\n",
    "|Barbacoa Crispy Tacos | Specialty Item |11|\n",
    "|Barbacoa Salad Bowl  |  Specialty Item |10|\n",
    "|Carnitas Crispy Tacos | Specialty Item |7|\n",
    "|Carnitas Salad Bowl  |  Specialty Item |6|\n",
    "|Steak Salad          |  Specialty Item |4|\n",
    "|Carnitas Salad        | Specialty Item |1|"
   ]
  },
  {
   "cell_type": "markdown",
   "metadata": {},
   "source": [
    "___"
   ]
  },
  {
   "cell_type": "markdown",
   "metadata": {},
   "source": [
    "**Let's look at an example that references different columns in our `CASE` statement logic.**"
   ]
  },
  {
   "cell_type": "code",
   "execution_count": null,
   "metadata": {},
   "outputs": [],
   "source": []
  }
 ],
 "metadata": {
  "kernelspec": {
   "display_name": "Python 3",
   "language": "python",
   "name": "python3"
  },
  "language_info": {
   "codemirror_mode": {
    "name": "ipython",
    "version": 3
   },
   "file_extension": ".py",
   "mimetype": "text/x-python",
   "name": "python",
   "nbconvert_exporter": "python",
   "pygments_lexer": "ipython3",
   "version": "3.7.4"
  }
 },
 "nbformat": 4,
 "nbformat_minor": 4
}
